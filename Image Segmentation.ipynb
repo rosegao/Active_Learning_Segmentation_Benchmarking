{
 "cells": [
  {
   "cell_type": "markdown",
   "metadata": {},
   "source": [
    "## Image Segmentation"
   ]
  },
  {
   "cell_type": "code",
   "execution_count": 12,
   "metadata": {
    "colab": {},
    "colab_type": "code",
    "id": "iYqwRHTX-mXW"
   },
   "outputs": [],
   "source": [
    "%matplotlib inline\n",
    "import keras\n",
    "from keras.models import *\n",
    "from keras.layers import *\n",
    "from keras.callbacks import ModelCheckpoint, ReduceLROnPlateau, EarlyStopping\n",
    "from keras.datasets import mnist\n",
    "from keras.utils import np_utils\n",
    "from keras.preprocessing.image import img_to_array\n",
    "from skimage.transform import resize"
   ]
  },
  {
   "cell_type": "code",
   "execution_count": 13,
   "metadata": {},
   "outputs": [],
   "source": [
    "%run Dataset.py\n",
    "%run Models/FCN32.py\n",
    "%run Models/FCN8.py\n",
    "%run Models/VGGUnet.py\n",
    "%run Models/VGGSegnet.py\n",
    "%run metrics.py"
   ]
  },
  {
   "cell_type": "code",
   "execution_count": 3,
   "metadata": {},
   "outputs": [],
   "source": [
    "SEG_PATH = './CityScapes_Dataset/segmentations'\n",
    "IMG_PATH = './CityScapes_Dataset/rawimgs'\n",
    "IMAGE_ORDERING = 'channels_first'\n",
    "N_CLASSES = 30\n",
    "INPUT_HEIGHT = 224\n",
    "INPUT_WIDTH = 224"
   ]
  },
  {
   "cell_type": "code",
   "execution_count": 4,
   "metadata": {},
   "outputs": [],
   "source": [
    "train_gen = DataGenerator(img_path=IMG_PATH, seg_path=SEG_PATH, split='small_train',\n",
    "                  n_classes=30,\n",
    "                  input_width=224, input_height=224,\n",
    "                  output_width=112, output_height=112,\n",
    "                  imgNorm='sub_mean',\n",
    "                  ordering='channels_first',\n",
    "                  batch_size=16\n",
    "                  )"
   ]
  },
  {
   "cell_type": "code",
   "execution_count": 5,
   "metadata": {},
   "outputs": [],
   "source": [
    "val_gen = DataGenerator(img_path=IMG_PATH, seg_path=SEG_PATH, split='small_val',\n",
    "                  n_classes=30,\n",
    "                  input_width=224, input_height=224,\n",
    "                  output_width=112, output_height=112,\n",
    "                  imgNorm='sub_mean',\n",
    "                  ordering='channels_first',\n",
    "                  batch_size=16\n",
    "                  )"
   ]
  },
  {
   "cell_type": "code",
   "execution_count": 6,
   "metadata": {},
   "outputs": [],
   "source": [
    "colormap, labelmap = create_label_dicts()"
   ]
  },
  {
   "cell_type": "code",
   "execution_count": 7,
   "metadata": {},
   "outputs": [
    {
     "data": {
      "text/plain": [
       "{0: 'unlabeled',\n",
       " 1: 'dynamic',\n",
       " 2: 'ground',\n",
       " 3: 'road',\n",
       " 4: 'sidewalk',\n",
       " 5: 'parking',\n",
       " 6: 'rail track',\n",
       " 7: 'building',\n",
       " 8: 'wall',\n",
       " 9: 'fence',\n",
       " 10: 'guard rail',\n",
       " 11: 'bridge',\n",
       " 12: 'tunnel',\n",
       " 13: 'pole',\n",
       " 14: 'polegroup',\n",
       " 15: 'traffic light',\n",
       " 16: 'traffic sign',\n",
       " 17: 'vegetation',\n",
       " 18: 'terrain',\n",
       " 19: 'sky',\n",
       " 20: 'person',\n",
       " 21: 'rider',\n",
       " 22: 'car',\n",
       " 23: 'truck',\n",
       " 24: 'bus',\n",
       " 25: 'caravan',\n",
       " 26: 'trailer',\n",
       " 27: 'train',\n",
       " 28: 'motorcycle',\n",
       " 29: 'bicycle'}"
      ]
     },
     "execution_count": 7,
     "metadata": {},
     "output_type": "execute_result"
    }
   ],
   "source": [
    "labelmap"
   ]
  },
  {
   "cell_type": "markdown",
   "metadata": {
    "colab_type": "text",
    "id": "Hqs1r1FgWVP9"
   },
   "source": [
    "### Image Segmentation - Check Preprocessed Datasets"
   ]
  },
  {
   "cell_type": "code",
   "execution_count": 8,
   "metadata": {},
   "outputs": [
    {
     "name": "stdout",
     "output_type": "stream",
     "text": [
      "1500 1500 500 500\n"
     ]
    }
   ],
   "source": [
    "print(\n",
    "    len(os.listdir('CityScapes_Dataset/rawimgs/small_train')),\n",
    "    len(os.listdir('CityScapes_Dataset/segmentations/small_train')),\n",
    "    len(os.listdir('CityScapes_Dataset/rawimgs/small_val')),\n",
    "    len(os.listdir('CityScapes_Dataset/segmentations/small_val'))\n",
    ")"
   ]
  },
  {
   "cell_type": "markdown",
   "metadata": {},
   "source": [
    "### Check Models are Working"
   ]
  },
  {
   "cell_type": "markdown",
   "metadata": {},
   "source": [
    "### Model Configurations"
   ]
  },
  {
   "cell_type": "code",
   "execution_count": 16,
   "metadata": {
    "scrolled": false
   },
   "outputs": [],
   "source": [
    "model = VGGUnet(N_CLASSES, INPUT_HEIGHT, INPUT_WIDTH)\n",
    "\n",
    "metrics = ['accuracy', iou, iou_flat, dice, dice_flat]\n",
    "\n",
    "\n",
    "model.compile(optimizer='adam', \n",
    "              loss=dice_loss,  \n",
    "              metrics=metrics)"
   ]
  },
  {
   "cell_type": "code",
   "execution_count": 17,
   "metadata": {},
   "outputs": [],
   "source": [
    "checkpointer = ModelCheckpoint(filepath='/tmp/newweights.hdf5', verbose=1, save_best_only=True)\n",
    "earlystopper = EarlyStopping(monitor='val_loss', min_delta=0, patience=3)"
   ]
  },
  {
   "cell_type": "code",
   "execution_count": 18,
   "metadata": {},
   "outputs": [
    {
     "name": "stdout",
     "output_type": "stream",
     "text": [
      "Epoch 1/20\n",
      "100/100 [==============================] - 123s 1s/step - loss: 0.5750 - acc: 0.4318 - iou: 0.4128 - iou_flat: 0.3874 - dice: 0.4250 - dice_flat: 0.5523 - val_loss: 0.5463 - val_acc: 0.4600 - val_iou: 0.4442 - val_iou_flat: 0.4206 - val_dice: 0.4537 - val_dice_flat: 0.5898\n",
      "\n",
      "Epoch 00001: val_loss improved from inf to 0.54629, saving model to /tmp/newweights.hdf5\n",
      "Epoch 2/20\n",
      "100/100 [==============================] - 118s 1s/step - loss: 0.5197 - acc: 0.4814 - iou: 0.4775 - iou_flat: 0.4561 - dice: 0.4803 - dice_flat: 0.6242 - val_loss: 0.5579 - val_acc: 0.4428 - val_iou: 0.4364 - val_iou_flat: 0.4063 - val_dice: 0.4421 - val_dice_flat: 0.5753\n",
      "\n",
      "Epoch 00002: val_loss did not improve from 0.54629\n",
      "Epoch 3/20\n",
      "100/100 [==============================] - 114s 1s/step - loss: 0.5067 - acc: 0.4937 - iou: 0.4922 - iou_flat: 0.4743 - dice: 0.4933 - dice_flat: 0.6412 - val_loss: 0.5144 - val_acc: 0.4864 - val_iou: 0.4835 - val_iou_flat: 0.4632 - val_dice: 0.4856 - val_dice_flat: 0.6312\n",
      "\n",
      "Epoch 00003: val_loss improved from 0.54629 to 0.51436, saving model to /tmp/newweights.hdf5\n",
      "Epoch 4/20\n",
      "100/100 [==============================] - 119s 1s/step - loss: 0.5053 - acc: 0.4949 - iou: 0.4939 - iou_flat: 0.4764 - dice: 0.4947 - dice_flat: 0.6430 - val_loss: 0.5203 - val_acc: 0.4810 - val_iou: 0.4764 - val_iou_flat: 0.4554 - val_dice: 0.4797 - val_dice_flat: 0.6239\n",
      "\n",
      "Epoch 00004: val_loss did not improve from 0.51436\n",
      "Epoch 5/20\n",
      "100/100 [==============================] - 119s 1s/step - loss: 0.5051 - acc: 0.4951 - iou: 0.4944 - iou_flat: 0.4774 - dice: 0.4949 - dice_flat: 0.6443 - val_loss: 0.5092 - val_acc: 0.4914 - val_iou: 0.4895 - val_iou_flat: 0.4703 - val_dice: 0.4908 - val_dice_flat: 0.6377\n",
      "\n",
      "Epoch 00005: val_loss improved from 0.51436 to 0.50917, saving model to /tmp/newweights.hdf5\n",
      "Epoch 6/20\n",
      "100/100 [==============================] - 120s 1s/step - loss: 0.5039 - acc: 0.4963 - iou: 0.4956 - iou_flat: 0.4786 - dice: 0.4961 - dice_flat: 0.6453 - val_loss: 0.5114 - val_acc: 0.4892 - val_iou: 0.4872 - val_iou_flat: 0.4674 - val_dice: 0.4886 - val_dice_flat: 0.6350\n",
      "\n",
      "Epoch 00006: val_loss did not improve from 0.50917\n",
      "Epoch 7/20\n",
      "100/100 [==============================] - 118s 1s/step - loss: 0.5025 - acc: 0.4977 - iou: 0.4971 - iou_flat: 0.4798 - dice: 0.4975 - dice_flat: 0.6461 - val_loss: 0.5062 - val_acc: 0.4940 - val_iou: 0.4932 - val_iou_flat: 0.4744 - val_dice: 0.4938 - val_dice_flat: 0.6415\n",
      "\n",
      "Epoch 00007: val_loss improved from 0.50917 to 0.50618, saving model to /tmp/newweights.hdf5\n",
      "Epoch 8/20\n",
      "100/100 [==============================] - 118s 1s/step - loss: 0.5018 - acc: 0.4983 - iou: 0.4978 - iou_flat: 0.4809 - dice: 0.4982 - dice_flat: 0.6474 - val_loss: 0.5124 - val_acc: 0.4879 - val_iou: 0.4863 - val_iou_flat: 0.4662 - val_dice: 0.4876 - val_dice_flat: 0.6339\n",
      "\n",
      "Epoch 00008: val_loss did not improve from 0.50618\n",
      "Epoch 9/20\n",
      "100/100 [==============================] - 120s 1s/step - loss: 0.5036 - acc: 0.4965 - iou: 0.4961 - iou_flat: 0.4788 - dice: 0.4964 - dice_flat: 0.6455 - val_loss: 0.5080 - val_acc: 0.4922 - val_iou: 0.4912 - val_iou_flat: 0.4725 - val_dice: 0.4920 - val_dice_flat: 0.6397\n",
      "\n",
      "Epoch 00009: val_loss did not improve from 0.50618\n",
      "Epoch 10/20\n",
      "100/100 [==============================] - 114s 1s/step - loss: 0.4996 - acc: 0.5005 - iou: 0.5001 - iou_flat: 0.4834 - dice: 0.5004 - dice_flat: 0.6495 - val_loss: 0.5037 - val_acc: 0.4964 - val_iou: 0.4959 - val_iou_flat: 0.4780 - val_dice: 0.4963 - val_dice_flat: 0.6447\n",
      "\n",
      "Epoch 00010: val_loss improved from 0.50618 to 0.50372, saving model to /tmp/newweights.hdf5\n",
      "Epoch 11/20\n",
      "100/100 [==============================] - 120s 1s/step - loss: 0.5003 - acc: 0.4998 - iou: 0.4995 - iou_flat: 0.4832 - dice: 0.4997 - dice_flat: 0.6493 - val_loss: 0.5045 - val_acc: 0.4957 - val_iou: 0.4950 - val_iou_flat: 0.4771 - val_dice: 0.4955 - val_dice_flat: 0.6441\n",
      "\n",
      "Epoch 00011: val_loss did not improve from 0.50372\n",
      "Epoch 12/20\n",
      "100/100 [==============================] - 118s 1s/step - loss: 0.5031 - acc: 0.4969 - iou: 0.4966 - iou_flat: 0.4803 - dice: 0.4969 - dice_flat: 0.6467 - val_loss: 0.5079 - val_acc: 0.4923 - val_iou: 0.4913 - val_iou_flat: 0.4724 - val_dice: 0.4921 - val_dice_flat: 0.6395\n",
      "\n",
      "Epoch 00012: val_loss did not improve from 0.50372\n",
      "Epoch 13/20\n",
      "100/100 [==============================] - 113s 1s/step - loss: 0.5017 - acc: 0.4984 - iou: 0.4982 - iou_flat: 0.4820 - dice: 0.4983 - dice_flat: 0.6482 - val_loss: 0.5111 - val_acc: 0.4892 - val_iou: 0.4877 - val_iou_flat: 0.4676 - val_dice: 0.4889 - val_dice_flat: 0.6353\n",
      "\n",
      "Epoch 00013: val_loss did not improve from 0.50372\n"
     ]
    },
    {
     "data": {
      "text/plain": [
       "<keras.callbacks.History at 0x7f32ee033e48>"
      ]
     },
     "execution_count": 18,
     "metadata": {},
     "output_type": "execute_result"
    }
   ],
   "source": [
    "model.fit_generator(generator=train_gen, steps_per_epoch=100, \n",
    "                    validation_data=val_gen, validation_steps=200, \n",
    "                    epochs=20, use_multiprocessing=True, callbacks=[checkpointer, earlystopper])"
   ]
  },
  {
   "cell_type": "markdown",
   "metadata": {},
   "source": [
    "### VGG Segnet"
   ]
  },
  {
   "cell_type": "code",
   "execution_count": null,
   "metadata": {},
   "outputs": [
    {
     "name": "stdout",
     "output_type": "stream",
     "text": [
      "Epoch 1/20\n",
      "100/100 [==============================] - 120s 1s/step - loss: 0.6060 - acc: 0.3981 - iou: 0.3896 - iou_flat: 0.3527 - dice: 0.3940 - dice_flat: 0.5125 - val_loss: 0.5353 - val_acc: 0.4650 - val_iou: 0.4630 - val_iou_flat: 0.4367 - val_dice: 0.4647 - val_dice_flat: 0.6048\n",
      "\n",
      "Epoch 00001: val_loss did not improve from 0.50372\n",
      "Epoch 2/20\n",
      "100/100 [==============================] - 115s 1s/step - loss: 0.5141 - acc: 0.4863 - iou: 0.4843 - iou_flat: 0.4638 - dice: 0.4859 - dice_flat: 0.6315 - val_loss: 0.7701 - val_acc: 0.2260 - val_iou: 0.2210 - val_iou_flat: 0.1776 - val_dice: 0.2299 - val_dice_flat: 0.2966\n",
      "\n",
      "Epoch 00002: val_loss did not improve from 0.50372\n",
      "Epoch 3/20\n",
      "100/100 [==============================] - 115s 1s/step - loss: 0.5079 - acc: 0.4924 - iou: 0.4912 - iou_flat: 0.4726 - dice: 0.4921 - dice_flat: 0.6397 - val_loss: 0.5577 - val_acc: 0.4435 - val_iou: 0.4367 - val_iou_flat: 0.4065 - val_dice: 0.4423 - val_dice_flat: 0.5745\n",
      "\n",
      "Epoch 00003: val_loss did not improve from 0.50372\n",
      "Epoch 4/20\n",
      "100/100 [==============================] - 113s 1s/step - loss: 0.5065 - acc: 0.4937 - iou: 0.4928 - iou_flat: 0.4748 - dice: 0.4935 - dice_flat: 0.6414 - val_loss: 0.5186 - val_acc: 0.4815 - val_iou: 0.4805 - val_iou_flat: 0.4588 - val_dice: 0.4814 - val_dice_flat: 0.6263\n",
      "\n",
      "Epoch 00004: val_loss did not improve from 0.50372\n",
      "Epoch 5/20\n",
      "100/100 [==============================] - 115s 1s/step - loss: 0.5075 - acc: 0.4926 - iou: 0.4918 - iou_flat: 0.4738 - dice: 0.4925 - dice_flat: 0.6411 - val_loss: 0.5195 - val_acc: 0.4807 - val_iou: 0.4793 - val_iou_flat: 0.4566 - val_dice: 0.4805 - val_dice_flat: 0.6245\n",
      "\n",
      "Epoch 00005: val_loss did not improve from 0.50372\n",
      "Epoch 6/20\n",
      "100/100 [==============================] - 112s 1s/step - loss: 0.5056 - acc: 0.4945 - iou: 0.4938 - iou_flat: 0.4762 - dice: 0.4944 - dice_flat: 0.6431 - val_loss: 0.5087 - val_acc: 0.4914 - val_iou: 0.4906 - val_iou_flat: 0.4715 - val_dice: 0.4913 - val_dice_flat: 0.6388\n",
      "\n",
      "Epoch 00006: val_loss did not improve from 0.50372\n",
      "Epoch 7/20\n",
      "100/100 [==============================] - 114s 1s/step - loss: 0.5028 - acc: 0.4973 - iou: 0.4968 - iou_flat: 0.4793 - dice: 0.4972 - dice_flat: 0.6457 - val_loss: 0.5073 - val_acc: 0.4929 - val_iou: 0.4921 - val_iou_flat: 0.4733 - val_dice: 0.4927 - val_dice_flat: 0.6403\n",
      "\n",
      "Epoch 00007: val_loss did not improve from 0.50372\n",
      "Epoch 8/20\n",
      "100/100 [==============================] - 112s 1s/step - loss: 0.5020 - acc: 0.4981 - iou: 0.4977 - iou_flat: 0.4806 - dice: 0.4980 - dice_flat: 0.6471 - val_loss: 0.5103 - val_acc: 0.4900 - val_iou: 0.4888 - val_iou_flat: 0.4694 - val_dice: 0.4897 - val_dice_flat: 0.6366\n",
      "\n",
      "Epoch 00008: val_loss did not improve from 0.50372\n",
      "Epoch 9/20\n",
      "100/100 [==============================] - 112s 1s/step - loss: 0.5038 - acc: 0.4963 - iou: 0.4959 - iou_flat: 0.4786 - dice: 0.4962 - dice_flat: 0.6452 - val_loss: 0.5193 - val_acc: 0.4813 - val_iou: 0.4785 - val_iou_flat: 0.4564 - val_dice: 0.4807 - val_dice_flat: 0.6247\n",
      "\n",
      "Epoch 00009: val_loss did not improve from 0.50372\n",
      "Epoch 10/20\n",
      "100/100 [==============================] - 112s 1s/step - loss: 0.4999 - acc: 0.5002 - iou: 0.4999 - iou_flat: 0.4830 - dice: 0.5001 - dice_flat: 0.6492 - val_loss: 0.5068 - val_acc: 0.4933 - val_iou: 0.4927 - val_iou_flat: 0.4737 - val_dice: 0.4932 - val_dice_flat: 0.6407\n",
      "\n",
      "Epoch 00010: val_loss did not improve from 0.50372\n",
      "Epoch 11/20\n",
      " 99/100 [============================>.] - ETA: 0s - loss: 0.5016 - acc: 0.4985 - iou: 0.4982 - iou_flat: 0.4817 - dice: 0.4984 - dice_flat: 0.6480"
     ]
    }
   ],
   "source": [
    "model = VGGSegnet(N_CLASSES, INPUT_HEIGHT, INPUT_WIDTH)\n",
    "\n",
    "metrics = ['accuracy', iou, iou_flat, dice, dice_flat]\n",
    "\n",
    "\n",
    "model.compile(optimizer='adam', \n",
    "              loss=dice_loss,  \n",
    "              metrics=metrics)\n",
    "\n",
    "model.fit_generator(generator=train_gen, steps_per_epoch=100, \n",
    "                    validation_data=val_gen, validation_steps=200, \n",
    "                    epochs=20, use_multiprocessing=True, callbacks=[checkpointer, earlystopper])"
   ]
  },
  {
   "cell_type": "markdown",
   "metadata": {},
   "source": [
    "### FCN32"
   ]
  },
  {
   "cell_type": "code",
   "execution_count": null,
   "metadata": {},
   "outputs": [],
   "source": []
  }
 ],
 "metadata": {
  "accelerator": "GPU",
  "colab": {
   "collapsed_sections": [],
   "name": "active_learning_image_segmentation.ipynb",
   "provenance": [],
   "version": "0.3.2"
  },
  "kernelspec": {
   "display_name": "Python 3",
   "language": "python",
   "name": "python3"
  },
  "language_info": {
   "codemirror_mode": {
    "name": "ipython",
    "version": 3
   },
   "file_extension": ".py",
   "mimetype": "text/x-python",
   "name": "python",
   "nbconvert_exporter": "python",
   "pygments_lexer": "ipython3",
   "version": "3.5.3"
  }
 },
 "nbformat": 4,
 "nbformat_minor": 1
}
